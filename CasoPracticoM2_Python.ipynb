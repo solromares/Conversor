{
  "nbformat": 4,
  "nbformat_minor": 0,
  "metadata": {
    "colab": {
      "provenance": []
    },
    "kernelspec": {
      "name": "python3",
      "display_name": "Python 3"
    },
    "language_info": {
      "name": "python"
    }
  },
  "cells": [
    {
      "cell_type": "code",
      "execution_count": 1,
      "metadata": {
        "id": "dyC2TYL7FjRC"
      },
      "outputs": [],
      "source": [
        "def conversor_de_tiempo():\n",
        "  print(\"#############################################\\n\\n\\tConversor unidades temporales\\n\\n#############################################\")\n",
        "\n",
        "  while True:\n",
        "    try:\n",
        "      segundos = float(input(\"Indique la cantidad de segundos(0 para salir): \"))\n",
        "      while segundos < 0:\n",
        "        print(\"El número a convertir debe ser positivo\")\n",
        "        segundos = float(input(\"Indique la cantidad de segundos(0 para salir): \"))\n",
        "      if segundos == 0:\n",
        "        break\n",
        "      else:\n",
        "        unidad = str(input(\"Indique la unidad destino (minutos, horas o días): \"))\n",
        "        if unidad.lower() == \"minutos\":\n",
        "          minutos = round(segundos/60, 2)\n",
        "          print(f\"{segundos} segundos equivalen a {minutos} minutos\")\n",
        "        elif unidad.lower() == \"horas\":\n",
        "          horas = round(segundos/3600, 2)\n",
        "          print(f\"{segundos} segundos equivalen a {horas} horas\")\n",
        "        elif unidad.lower() == \"dias\" or unidad.lower() == \"días\":\n",
        "          dias = round(segundos/86400, 2)\n",
        "          print(f\"{segundos} segundos equivalen a {dias} días\")\n",
        "        else:\n",
        "          print(\"La unidad de conversion no es correcta\")\n",
        "    except ValueError:\n",
        "      print(\"El valor a convertir debe ser un NÚMERO mayor de cero\")"
      ]
    },
    {
      "cell_type": "code",
      "source": [
        "conversor_de_tiempo()"
      ],
      "metadata": {
        "colab": {
          "base_uri": "https://localhost:8080/"
        },
        "id": "jeXpIx1cF1lK",
        "outputId": "ae99be48-4637-4940-c55a-87c2483a7e76"
      },
      "execution_count": 3,
      "outputs": [
        {
          "name": "stdout",
          "output_type": "stream",
          "text": [
            "#############################################\n",
            "\n",
            "\tConversor unidades temporales\n",
            "\n",
            "#############################################\n",
            "Indique la cantidad de segundos(0 para salir): 0\n"
          ]
        }
      ]
    }
  ]
}